{
 "cells": [
  {
   "cell_type": "markdown",
   "metadata": {},
   "source": [
    "# Урок 1. Концепции хранения информации"
   ]
  },
  {
   "cell_type": "markdown",
   "metadata": {},
   "source": [
    "## Практическая работа"
   ]
  },
  {
   "cell_type": "markdown",
   "metadata": {},
   "source": [
    "### Задание 1"
   ]
  },
  {
   "cell_type": "markdown",
   "metadata": {},
   "source": [
    "Каждое из слов «разработка», «сокет», «декоратор» представить в строковом формате и проверить тип и содержание соответствующих переменных. Затем с помощью онлайн-конвертера преобразовать строковые представление в формат Unicode и также проверить тип и содержимое переменных."
   ]
  },
  {
   "cell_type": "markdown",
   "metadata": {},
   "source": [
    "#### Решение"
   ]
  },
  {
   "cell_type": "markdown",
   "metadata": {},
   "source": [
    "Представление в строковом формате"
   ]
  },
  {
   "cell_type": "code",
   "execution_count": 3,
   "metadata": {},
   "outputs": [],
   "source": [
    "word_1, word_2, word_3 = 'разработка', 'сокет', 'декоратор'  # все что в кавычках является строкой в python"
   ]
  },
  {
   "cell_type": "markdown",
   "metadata": {},
   "source": [
    "Проверка типа переменных"
   ]
  },
  {
   "cell_type": "code",
   "execution_count": 10,
   "metadata": {},
   "outputs": [
    {
     "name": "stdout",
     "output_type": "stream",
     "text": [
      "Тип переменной word_1: <class 'str'>\n",
      "Тип переменной word_2: <class 'str'>\n",
      "Тип переменной word_3: <class 'str'>\n"
     ]
    }
   ],
   "source": [
    "print(f'Тип переменной word_1: {type(word_1)}')\n",
    "print(f'Тип переменной word_2: {type(word_2)}')\n",
    "print(f'Тип переменной word_3: {type(word_3)}')"
   ]
  },
  {
   "cell_type": "markdown",
   "metadata": {},
   "source": [
    "Содержание переменных"
   ]
  },
  {
   "cell_type": "code",
   "execution_count": 8,
   "metadata": {},
   "outputs": [
    {
     "name": "stdout",
     "output_type": "stream",
     "text": [
      "Содержание переменной word_1: разработка\n",
      "Содержание переменной word_2: сокет\n",
      "Содержание переменной word_3: декоратор\n"
     ]
    }
   ],
   "source": [
    "print(f'Содержание переменной word_1: {word_1}')\n",
    "print(f'Содержание переменной word_2: {word_2}')\n",
    "print(f'Содержание переменной word_3: {word_3}')"
   ]
  },
  {
   "cell_type": "markdown",
   "metadata": {},
   "source": [
    "Часть задания с использование online-конвертора сознательно пропускаю из-за его опциональности."
   ]
  },
  {
   "cell_type": "markdown",
   "metadata": {},
   "source": [
    "### Задание 2"
   ]
  },
  {
   "cell_type": "markdown",
   "metadata": {},
   "source": [
    "Каждое из слов «class», «function», «method» записать в байтовом типе без преобразования в последовательность кодов (не используя методы encode и decode) и определить тип, содержимое и длину соответствующих переменных."
   ]
  },
  {
   "cell_type": "markdown",
   "metadata": {},
   "source": [
    "#### Решение"
   ]
  },
  {
   "cell_type": "markdown",
   "metadata": {},
   "source": [
    "Запись в байтовом типе"
   ]
  },
  {
   "cell_type": "code",
   "execution_count": 11,
   "metadata": {},
   "outputs": [],
   "source": [
    "bword_1, bword_2, bword_3 = b'class', b'function', b'method'  # префикс b задаёт байтовую строку"
   ]
  },
  {
   "cell_type": "markdown",
   "metadata": {},
   "source": [
    "Определение типа переменных"
   ]
  },
  {
   "cell_type": "code",
   "execution_count": 12,
   "metadata": {},
   "outputs": [
    {
     "name": "stdout",
     "output_type": "stream",
     "text": [
      "Тип переменной bword_1: <class 'bytes'>\n",
      "Тип переменной bword_2: <class 'bytes'>\n",
      "Тип переменной bword_3: <class 'bytes'>\n"
     ]
    }
   ],
   "source": [
    "print(f'Тип переменной bword_1: {type(bword_1)}')\n",
    "print(f'Тип переменной bword_2: {type(bword_2)}')\n",
    "print(f'Тип переменной bword_3: {type(bword_3)}')"
   ]
  },
  {
   "cell_type": "markdown",
   "metadata": {},
   "source": [
    "Содержание переменных"
   ]
  },
  {
   "cell_type": "code",
   "execution_count": 13,
   "metadata": {},
   "outputs": [
    {
     "name": "stdout",
     "output_type": "stream",
     "text": [
      "Содержание переменной bword_1: b'class'\n",
      "Содержание переменной bword_2: b'function'\n",
      "Содержание переменной bword_3: b'method'\n"
     ]
    }
   ],
   "source": [
    "print(f'Содержание переменной bword_1: {bword_1}')\n",
    "print(f'Содержание переменной bword_2: {bword_2}')\n",
    "print(f'Содержание переменной bword_3: {bword_3}')"
   ]
  },
  {
   "cell_type": "markdown",
   "metadata": {},
   "source": [
    "Длина переменных"
   ]
  },
  {
   "cell_type": "code",
   "execution_count": 14,
   "metadata": {},
   "outputs": [
    {
     "name": "stdout",
     "output_type": "stream",
     "text": [
      "Длина переменной bword_1: 5\n",
      "Длина переменной bword_2: 8\n",
      "Длина переменной bword_3: 6\n"
     ]
    }
   ],
   "source": [
    "print(f'Длина переменной bword_1: {len(bword_1)}')\n",
    "print(f'Длина переменной bword_2: {len(bword_2)}')\n",
    "print(f'Длина переменной bword_3: {len(bword_3)}')"
   ]
  },
  {
   "cell_type": "markdown",
   "metadata": {},
   "source": [
    "### Задание 3"
   ]
  },
  {
   "cell_type": "markdown",
   "metadata": {},
   "source": [
    "Определить, какие из слов «attribute», «класс», «функция», «type» невозможно записать в байтовом типе."
   ]
  },
  {
   "cell_type": "markdown",
   "metadata": {},
   "source": [
    "#### Решение"
   ]
  },
  {
   "cell_type": "markdown",
   "metadata": {},
   "source": [
    "Задание призвано показать, что при задании байт строк при помощи префикса b'' нужно использовать только ASCII символы. Действительно, если мы попробуем записать в байтовом типе слова \"класс\" или \"функция\" то получим SyntaxError:"
   ]
  },
  {
   "cell_type": "code",
   "execution_count": 22,
   "metadata": {},
   "outputs": [
    {
     "ename": "SyntaxError",
     "evalue": "bytes can only contain ASCII literal characters. (<ipython-input-22-3da33e725ed6>, line 1)",
     "output_type": "error",
     "traceback": [
      "\u001b[1;36m  File \u001b[1;32m\"<ipython-input-22-3da33e725ed6>\"\u001b[1;36m, line \u001b[1;32m1\u001b[0m\n\u001b[1;33m    bword = b'класс'\u001b[0m\n\u001b[1;37m           ^\u001b[0m\n\u001b[1;31mSyntaxError\u001b[0m\u001b[1;31m:\u001b[0m bytes can only contain ASCII literal characters.\n"
     ]
    }
   ],
   "source": [
    "bword = b'класс'"
   ]
  },
  {
   "cell_type": "code",
   "execution_count": 23,
   "metadata": {},
   "outputs": [
    {
     "ename": "SyntaxError",
     "evalue": "bytes can only contain ASCII literal characters. (<ipython-input-23-0bfc51365b35>, line 1)",
     "output_type": "error",
     "traceback": [
      "\u001b[1;36m  File \u001b[1;32m\"<ipython-input-23-0bfc51365b35>\"\u001b[1;36m, line \u001b[1;32m1\u001b[0m\n\u001b[1;33m    bword = b'функция'\u001b[0m\n\u001b[1;37m           ^\u001b[0m\n\u001b[1;31mSyntaxError\u001b[0m\u001b[1;31m:\u001b[0m bytes can only contain ASCII literal characters.\n"
     ]
    }
   ],
   "source": [
    "bword = b'функция'"
   ]
  },
  {
   "cell_type": "markdown",
   "metadata": {},
   "source": [
    "Однако с помощью метода ``str.encode()`` все работает:"
   ]
  },
  {
   "cell_type": "code",
   "execution_count": 24,
   "metadata": {},
   "outputs": [
    {
     "data": {
      "text/plain": [
       "b'\\xd0\\xba\\xd0\\xbb\\xd0\\xb0\\xd1\\x81\\xd1\\x81'"
      ]
     },
     "execution_count": 24,
     "metadata": {},
     "output_type": "execute_result"
    }
   ],
   "source": [
    "str.encode('класс')"
   ]
  },
  {
   "cell_type": "markdown",
   "metadata": {},
   "source": [
    "### Задание 4"
   ]
  },
  {
   "cell_type": "markdown",
   "metadata": {},
   "source": [
    "Преобразовать слова «разработка», «администрирование», «protocol», «standard» из строкового представления в байтовое и выполнить обратное преобразование (используя методы encode и decode)."
   ]
  },
  {
   "cell_type": "markdown",
   "metadata": {},
   "source": [
    "#### Решение"
   ]
  },
  {
   "cell_type": "code",
   "execution_count": 36,
   "metadata": {},
   "outputs": [
    {
     "name": "stdout",
     "output_type": "stream",
     "text": [
      "Байтовое представление слова разработка (encode): b'\\xd1\\x80\\xd0\\xb0\\xd0\\xb7\\xd1\\x80\\xd0\\xb0\\xd0\\xb1\\xd0\\xbe\\xd1\\x82\\xd0\\xba\\xd0\\xb0'\n",
      "Строковое представление слова разработка (decode): разработка\n",
      "\n",
      "Байтовое представление слова администрирование (encode): b'\\xd0\\xb0\\xd0\\xb4\\xd0\\xbc\\xd0\\xb8\\xd0\\xbd\\xd0\\xb8\\xd1\\x81\\xd1\\x82\\xd1\\x80\\xd0\\xb8\\xd1\\x80\\xd0\\xbe\\xd0\\xb2\\xd0\\xb0\\xd0\\xbd\\xd0\\xb8\\xd0\\xb5'\n",
      "Строковое представление слова администрирование (decode): администрирование\n",
      "\n",
      "Байтовое представление слова protocol (encode): b'protocol'\n",
      "Строковое представление слова protocol (decode): protocol\n",
      "\n",
      "Байтовое представление слова standard (encode): b'standard'\n",
      "Строковое представление слова standard (decode): standard\n"
     ]
    }
   ],
   "source": [
    "words = ['разработка', 'администрирование', 'protocol', 'standard']\n",
    "\n",
    "for word in words:\n",
    "    bword = word.encode()\n",
    "    print(f'Байтовое представление слова {word} (encode): {bword}')\n",
    "    sword = bword.decode()\n",
    "    print(f'Строковое представление слова {word} (decode): {sword}')\n",
    "    if word is not words[-1]:\n",
    "        print()  # для пустой строки"
   ]
  },
  {
   "cell_type": "markdown",
   "metadata": {},
   "source": [
    "### Задание 5"
   ]
  },
  {
   "cell_type": "markdown",
   "metadata": {},
   "source": [
    "Выполнить пинг веб-ресурсов yandex.ru, youtube.com и преобразовать результаты из байтовового в строковый тип на кириллице."
   ]
  },
  {
   "cell_type": "markdown",
   "metadata": {},
   "source": [
    "#### Решение"
   ]
  },
  {
   "cell_type": "code",
   "execution_count": 35,
   "metadata": {},
   "outputs": [
    {
     "name": "stdout",
     "output_type": "stream",
     "text": [
      "\n",
      "Обмен пакетами с yandex.ru [77.88.55.80] с 32 байтами данных:\n",
      "Ответ от 77.88.55.80: число байт=32 время=10мс TTL=249\n",
      "Ответ от 77.88.55.80: число байт=32 время=10мс TTL=249\n",
      "Ответ от 77.88.55.80: число байт=32 время=10мс TTL=249\n",
      "Ответ от 77.88.55.80: число байт=32 время=10мс TTL=249\n",
      "\n",
      "Статистика Ping для 77.88.55.80:\n",
      "    Пакетов: отправлено = 4, получено = 4, потеряно = 0\n",
      "    (0% потерь)\n",
      "Приблизительное время приема-передачи в мс:\n",
      "    Минимальное = 10мсек, Максимальное = 10 мсек, Среднее = 10 мсек\n",
      "--------------------------------------------------------------------------------\n",
      "\n",
      "Обмен пакетами с youtube.com [64.233.165.93] с 32 байтами данных:\n",
      "Ответ от 64.233.165.93: число байт=32 время=19мс TTL=41\n",
      "Ответ от 64.233.165.93: число байт=32 время=18мс TTL=41\n",
      "Ответ от 64.233.165.93: число байт=32 время=19мс TTL=41\n",
      "Ответ от 64.233.165.93: число байт=32 время=19мс TTL=41\n",
      "\n",
      "Статистика Ping для 64.233.165.93:\n",
      "    Пакетов: отправлено = 4, получено = 4, потеряно = 0\n",
      "    (0% потерь)\n",
      "Приблизительное время приема-передачи в мс:\n",
      "    Минимальное = 18мсек, Максимальное = 19 мсек, Среднее = 18 мсек\n"
     ]
    }
   ],
   "source": [
    "import subprocess\n",
    "\n",
    "web_resources = ['yandex.ru', 'youtube.com']\n",
    "command = 'ping'\n",
    "\n",
    "for url in web_resources:\n",
    "    args = [command, url]\n",
    "    # далее по методичке\n",
    "    subproc_ping = subprocess.Popen(args, stdout=subprocess.PIPE)\n",
    "    for line in subproc_ping.stdout:\n",
    "        line = line.decode('cp866').encode('utf-8')\n",
    "        print(line.decode('utf-8'), end='')\n",
    "    if url is not web_resources[-1]:\n",
    "        print('-' * 80)  # для визуального разделения"
   ]
  },
  {
   "cell_type": "markdown",
   "metadata": {},
   "source": [
    "### Задание 6"
   ]
  },
  {
   "cell_type": "markdown",
   "metadata": {},
   "source": [
    "Создать текстовый файл test_file.txt, заполнить его тремя строками: «сетевое программирование», «сокет», «декоратор». Проверить кодировку файла по умолчанию. Принудительно открыть файл в формате Unicode и вывести его содержимое."
   ]
  },
  {
   "cell_type": "markdown",
   "metadata": {},
   "source": [
    "#### Решение"
   ]
  },
  {
   "cell_type": "markdown",
   "metadata": {},
   "source": [
    "Создание файла"
   ]
  },
  {
   "cell_type": "code",
   "execution_count": 39,
   "metadata": {},
   "outputs": [],
   "source": [
    "strings = ['сетевое программирование', 'сокет', 'декоратор']\n",
    "file_name = \"test_file.txt\"\n",
    "\n",
    "with open(file_name, \"w\") as f_n:\n",
    "    for string in strings:\n",
    "        f_n.write(string + '\\n')"
   ]
  },
  {
   "cell_type": "markdown",
   "metadata": {},
   "source": [
    "Проверка кодировки файла"
   ]
  },
  {
   "cell_type": "code",
   "execution_count": 43,
   "metadata": {},
   "outputs": [
    {
     "name": "stdout",
     "output_type": "stream",
     "text": [
      "Кодировка файла test_file.txt: cp1251\n"
     ]
    }
   ],
   "source": [
    "with open(file_name, \"r\") as f_n:\n",
    "    print(f'Кодировка файла {file_name}: {f_n.encoding}')"
   ]
  },
  {
   "cell_type": "markdown",
   "metadata": {},
   "source": [
    "Принудительное открытие в кодировке Unicode (utf-8) и вывод содержимого"
   ]
  },
  {
   "cell_type": "code",
   "execution_count": 48,
   "metadata": {},
   "outputs": [
    {
     "name": "stdout",
     "output_type": "stream",
     "text": [
      "������� ����������������\n",
      "�����\n",
      "���������\n"
     ]
    }
   ],
   "source": [
    "with open(file_name, \"r\", encoding='utf-8', errors='replace') as f_n:\n",
    "    for string in f_n:\n",
    "        print(string, end='')"
   ]
  },
  {
   "cell_type": "markdown",
   "metadata": {},
   "source": [
    "Пришлось добавить параметр ``errors=replace`` иначе получали ошибку.\n",
    "\n",
    "Попробуем читать байты и выполнять преобразования на лету"
   ]
  },
  {
   "cell_type": "code",
   "execution_count": 50,
   "metadata": {},
   "outputs": [
    {
     "name": "stdout",
     "output_type": "stream",
     "text": [
      "сетевое программирование\r\n",
      "сокет\r\n",
      "декоратор\r\n"
     ]
    }
   ],
   "source": [
    "with open(file_name, \"rb\") as f_n:\n",
    "    for bstring in f_n:\n",
    "        bstring = bstring.decode('cp1251').encode('utf-8')\n",
    "        print(bstring.decode('utf-8'), end='')"
   ]
  },
  {
   "cell_type": "markdown",
   "metadata": {},
   "source": [
    "## Необходимые и достаточные условия"
   ]
  },
  {
   "cell_type": "markdown",
   "metadata": {},
   "source": [
    "### Задание 1"
   ]
  },
  {
   "cell_type": "markdown",
   "metadata": {},
   "source": [
    "Реализовать приведение строк \"разработка\", \"сокет\", \"декоратор\" к типу bytes используя нативные методы строк;"
   ]
  },
  {
   "cell_type": "markdown",
   "metadata": {},
   "source": [
    "#### Решение"
   ]
  },
  {
   "cell_type": "code",
   "execution_count": 53,
   "metadata": {},
   "outputs": [
    {
     "name": "stdout",
     "output_type": "stream",
     "text": [
      "Строка \"разработка\" в виде байт: b'\\xd1\\x80\\xd0\\xb0\\xd0\\xb7\\xd1\\x80\\xd0\\xb0\\xd0\\xb1\\xd0\\xbe\\xd1\\x82\\xd0\\xba\\xd0\\xb0'\n",
      "Строка \"сокет\" в виде байт: b'\\xd1\\x81\\xd0\\xbe\\xd0\\xba\\xd0\\xb5\\xd1\\x82'\n",
      "Строка \"декоратор\" в виде байт: b'\\xd0\\xb4\\xd0\\xb5\\xd0\\xba\\xd0\\xbe\\xd1\\x80\\xd0\\xb0\\xd1\\x82\\xd0\\xbe\\xd1\\x80'\n"
     ]
    }
   ],
   "source": [
    "strings = ['разработка', 'сокет', 'декоратор']\n",
    "bstrings = []  # для второго задания\n",
    "\n",
    "for string in strings:\n",
    "    bstring = string.encode()\n",
    "    bstrings.append(bstring)\n",
    "    print(f'Строка \"{string}\" в виде байт: {bstring}')"
   ]
  },
  {
   "cell_type": "markdown",
   "metadata": {},
   "source": [
    "### Задание 2"
   ]
  },
  {
   "cell_type": "markdown",
   "metadata": {},
   "source": [
    "Реализовать приведение полученных экземпляров типа bytes к типу str;"
   ]
  },
  {
   "cell_type": "markdown",
   "metadata": {},
   "source": [
    "#### Решение"
   ]
  },
  {
   "cell_type": "code",
   "execution_count": 55,
   "metadata": {},
   "outputs": [
    {
     "name": "stdout",
     "output_type": "stream",
     "text": [
      "Байт строка \"b'\\xd1\\x80\\xd0\\xb0\\xd0\\xb7\\xd1\\x80\\xd0\\xb0\\xd0\\xb1\\xd0\\xbe\\xd1\\x82\\xd0\\xba\\xd0\\xb0'\" в виде строки: разработка\n",
      "Байт строка \"b'\\xd1\\x81\\xd0\\xbe\\xd0\\xba\\xd0\\xb5\\xd1\\x82'\" в виде строки: сокет\n",
      "Байт строка \"b'\\xd0\\xb4\\xd0\\xb5\\xd0\\xba\\xd0\\xbe\\xd1\\x80\\xd0\\xb0\\xd1\\x82\\xd0\\xbe\\xd1\\x80'\" в виде строки: декоратор\n"
     ]
    }
   ],
   "source": [
    "for bstring in bstrings:\n",
    "    string = bstring.decode()\n",
    "    print(f'Байт строка \"{bstring}\" в виде строки: {string}')"
   ]
  },
  {
   "cell_type": "markdown",
   "metadata": {},
   "source": [
    "### Задание 3"
   ]
  },
  {
   "cell_type": "markdown",
   "metadata": {},
   "source": [
    "Реализовать приведение полученных строк и байтовых последовательностей с использование различных кодировок utf-8 latin-1."
   ]
  },
  {
   "cell_type": "markdown",
   "metadata": {},
   "source": [
    "#### Решение"
   ]
  },
  {
   "cell_type": "code",
   "execution_count": 69,
   "metadata": {},
   "outputs": [
    {
     "name": "stdout",
     "output_type": "stream",
     "text": [
      "Строки в байт строки\n",
      "\n",
      "Преобразования с использованием кодировки utf-8\n",
      "Строка \"разработка\" в виде байт: b'\\xd1\\x80\\xd0\\xb0\\xd0\\xb7\\xd1\\x80\\xd0\\xb0\\xd0\\xb1\\xd0\\xbe\\xd1\\x82\\xd0\\xba\\xd0\\xb0'\n",
      "Строка \"сокет\" в виде байт: b'\\xd1\\x81\\xd0\\xbe\\xd0\\xba\\xd0\\xb5\\xd1\\x82'\n",
      "Строка \"декоратор\" в виде байт: b'\\xd0\\xb4\\xd0\\xb5\\xd0\\xba\\xd0\\xbe\\xd1\\x80\\xd0\\xb0\\xd1\\x82\\xd0\\xbe\\xd1\\x80'\n",
      "--------------------------------------------------------------------------------\n",
      "Преобразования с использованием кодировки latin-1\n",
      "Строка \"разработка\" в виде байт: b'??????????'\n",
      "Строка \"сокет\" в виде байт: b'?????'\n",
      "Строка \"декоратор\" в виде байт: b'?????????'\n",
      "--------------------------------------------------------------------------------\n",
      "Преобразования с использованием кодировки cp866\n",
      "Строка \"разработка\" в виде байт: b'\\xe0\\xa0\\xa7\\xe0\\xa0\\xa1\\xae\\xe2\\xaa\\xa0'\n",
      "Строка \"сокет\" в виде байт: b'\\xe1\\xae\\xaa\\xa5\\xe2'\n",
      "Строка \"декоратор\" в виде байт: b'\\xa4\\xa5\\xaa\\xae\\xe0\\xa0\\xe2\\xae\\xe0'\n",
      "--------------------------------------------------------------------------------\n",
      "Преобразования с использованием кодировки utf-16\n",
      "Строка \"разработка\" в виде байт: b'\\xff\\xfe@\\x040\\x047\\x04@\\x040\\x041\\x04>\\x04B\\x04:\\x040\\x04'\n",
      "Строка \"сокет\" в виде байт: b'\\xff\\xfeA\\x04>\\x04:\\x045\\x04B\\x04'\n",
      "Строка \"декоратор\" в виде байт: b'\\xff\\xfe4\\x045\\x04:\\x04>\\x04@\\x040\\x04B\\x04>\\x04@\\x04'\n",
      "\n",
      "Байт строки в строки\n",
      "\n",
      "Преобразования с использованием кодировки utf-8\n",
      "Байт строка \"b'\\xd1\\x80\\xd0\\xb0\\xd0\\xb7\\xd1\\x80\\xd0\\xb0\\xd0\\xb1\\xd0\\xbe\\xd1\\x82\\xd0\\xba\\xd0\\xb0'\" в виде строки: разработка\n",
      "Байт строка \"b'\\xd1\\x81\\xd0\\xbe\\xd0\\xba\\xd0\\xb5\\xd1\\x82'\" в виде строки: сокет\n",
      "Байт строка \"b'\\xd0\\xb4\\xd0\\xb5\\xd0\\xba\\xd0\\xbe\\xd1\\x80\\xd0\\xb0\\xd1\\x82\\xd0\\xbe\\xd1\\x80'\" в виде строки: декоратор\n",
      "--------------------------------------------------------------------------------\n",
      "Преобразования с использованием кодировки latin-1\n",
      "Байт строка \"b'\\xd1\\x80\\xd0\\xb0\\xd0\\xb7\\xd1\\x80\\xd0\\xb0\\xd0\\xb1\\xd0\\xbe\\xd1\\x82\\xd0\\xba\\xd0\\xb0'\" в виде строки: ÑÐ°Ð·ÑÐ°Ð±Ð¾ÑÐºÐ°\n",
      "Байт строка \"b'\\xd1\\x81\\xd0\\xbe\\xd0\\xba\\xd0\\xb5\\xd1\\x82'\" в виде строки: ÑÐ¾ÐºÐµÑ\n",
      "Байт строка \"b'\\xd0\\xb4\\xd0\\xb5\\xd0\\xba\\xd0\\xbe\\xd1\\x80\\xd0\\xb0\\xd1\\x82\\xd0\\xbe\\xd1\\x80'\" в виде строки: Ð´ÐµÐºÐ¾ÑÐ°ÑÐ¾Ñ\n",
      "--------------------------------------------------------------------------------\n",
      "Преобразования с использованием кодировки cp866\n",
      "Байт строка \"b'\\xd1\\x80\\xd0\\xb0\\xd0\\xb7\\xd1\\x80\\xd0\\xb0\\xd0\\xb1\\xd0\\xbe\\xd1\\x82\\xd0\\xba\\xd0\\xb0'\" в виде строки: ╤А╨░╨╖╤А╨░╨▒╨╛╤В╨║╨░\n",
      "Байт строка \"b'\\xd1\\x81\\xd0\\xbe\\xd0\\xba\\xd0\\xb5\\xd1\\x82'\" в виде строки: ╤Б╨╛╨║╨╡╤В\n",
      "Байт строка \"b'\\xd0\\xb4\\xd0\\xb5\\xd0\\xba\\xd0\\xbe\\xd1\\x80\\xd0\\xb0\\xd1\\x82\\xd0\\xbe\\xd1\\x80'\" в виде строки: ╨┤╨╡╨║╨╛╤А╨░╤В╨╛╤А\n",
      "--------------------------------------------------------------------------------\n",
      "Преобразования с использованием кодировки utf-16\n",
      "Байт строка \"b'\\xd1\\x80\\xd0\\xb0\\xd0\\xb7\\xd1\\x80\\xd0\\xb0\\xd0\\xb1\\xd0\\xbe\\xd1\\x82\\xd0\\xba\\xd0\\xb0'\" в виде строки: 胑냐럐胑냐뇐뻐苑뫐냐\n",
      "Байт строка \"b'\\xd1\\x81\\xd0\\xbe\\xd0\\xba\\xd0\\xb5\\xd1\\x82'\" в виде строки: 臑뻐뫐뗐苑\n",
      "Байт строка \"b'\\xd0\\xb4\\xd0\\xb5\\xd0\\xba\\xd0\\xbe\\xd1\\x80\\xd0\\xb0\\xd1\\x82\\xd0\\xbe\\xd1\\x80'\" в виде строки: 듐뗐뫐뻐胑냐苑뻐胑\n"
     ]
    }
   ],
   "source": [
    "encodings = ['utf-8', 'latin-1', 'cp866', 'utf-16']  # добавим несколько кодировок для сравнения\n",
    "\n",
    "print(f'Строки в байт строки\\n')\n",
    "\n",
    "for encoding in encodings:\n",
    "    print(f'Преобразования с использованием кодировки {encoding}')\n",
    "    for string in strings:\n",
    "        bstring = string.encode(encoding=encoding, errors='replace')\n",
    "        print(f'Строка \"{string}\" в виде байт: {bstring}')\n",
    "    if encoding is not encodings[-1]:\n",
    "        print('-' * 80)\n",
    "\n",
    "print()\n",
    "print(f'Байт строки в строки\\n')\n",
    "        \n",
    "for encoding in encodings:\n",
    "    print(f'Преобразования с использованием кодировки {encoding}')\n",
    "    for bstring in bstrings:\n",
    "        string = bstring.decode(encoding=encoding, errors='replace')\n",
    "        print(f'Байт строка \"{bstring}\" в виде строки: {string}')\n",
    "    if encoding is not encodings[-1]:\n",
    "        print('-' * 80)"
   ]
  }
 ],
 "metadata": {
  "kernelspec": {
   "display_name": "Python 3",
   "language": "python",
   "name": "python3"
  },
  "language_info": {
   "codemirror_mode": {
    "name": "ipython",
    "version": 3
   },
   "file_extension": ".py",
   "mimetype": "text/x-python",
   "name": "python",
   "nbconvert_exporter": "python",
   "pygments_lexer": "ipython3",
   "version": "3.7.2"
  }
 },
 "nbformat": 4,
 "nbformat_minor": 2
}
