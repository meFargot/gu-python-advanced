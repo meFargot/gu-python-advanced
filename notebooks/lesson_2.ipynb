{
 "cells": [
  {
   "cell_type": "markdown",
   "metadata": {},
   "source": [
    "# Урок 2. Файловое хранение данных"
   ]
  },
  {
   "cell_type": "markdown",
   "metadata": {},
   "source": [
    "## Практическая работа"
   ]
  },
  {
   "cell_type": "code",
   "execution_count": 1,
   "metadata": {},
   "outputs": [],
   "source": [
    "import os"
   ]
  },
  {
   "cell_type": "markdown",
   "metadata": {},
   "source": [
    "### Задание на закрепление знаний по модулю CSV."
   ]
  },
  {
   "cell_type": "code",
   "execution_count": 2,
   "metadata": {},
   "outputs": [],
   "source": [
    "import csv"
   ]
  },
  {
   "cell_type": "markdown",
   "metadata": {},
   "source": [
    "Написать скрипт, осуществляющий выборку определенных данных из файлов info_1.txt, info_2.txt, info_3.txt и формирующий новый «отчетный» файл в формате CSV. Для этого:"
   ]
  },
  {
   "cell_type": "markdown",
   "metadata": {},
   "source": [
    "#### 1."
   ]
  },
  {
   "cell_type": "markdown",
   "metadata": {},
   "source": [
    "Создать функцию get_data(), в которой в цикле осуществляется перебор файлов с данными, их открытие и считывание данных. В этой функции из считанных данных необходимо с помощью регулярных выражений извлечь значения параметров «Изготовитель системы», «Название ОС», «Код продукта», «Тип системы». Значения каждого параметра поместить в соответствующий список. Должно получиться четыре списка — например, os_prod_list, os_name_list, os_code_list, os_type_list. В этой же функции создать главный список для хранения данных отчета — например, main_data — и поместить в него названия столбцов отчета в виде списка: «Изготовитель системы», «Название ОС», «Код продукта», «Тип системы». Значения для этих столбцов также оформить в виде списка и поместить в файл main_data (также для каждого файла);"
   ]
  },
  {
   "cell_type": "code",
   "execution_count": 3,
   "metadata": {},
   "outputs": [],
   "source": [
    "import re"
   ]
  },
  {
   "cell_type": "code",
   "execution_count": 4,
   "metadata": {},
   "outputs": [],
   "source": [
    "DATA_PATH = os.sep.join(['..', 'data', 'lesson_2'])\n",
    "\n",
    "info_files = ['info_1.txt', 'info_2.txt', 'info_3.txt']\n",
    "\n",
    "parameters = ['Изготовитель системы',\n",
    "              'Название ОС',\n",
    "              'Код продукта',\n",
    "              'Тип системы'\n",
    "             ]\n"
   ]
  },
  {
   "cell_type": "code",
   "execution_count": 5,
   "metadata": {},
   "outputs": [],
   "source": [
    "def get_data():\n",
    "    os_prod_list, os_name_list, os_code_list, os_type_list = [], [], [], []\n",
    "\n",
    "    files = [os.sep.join([DATA_PATH, file]) for file in info_files]\n",
    "    \n",
    "    for file in files:\n",
    "        with open(file, 'r') as file_handler:\n",
    "            lines = file_handler.readlines()\n",
    "    \n",
    "        for line in lines:\n",
    "            if re.match(parameters[0], line):\n",
    "                os_prod_list.append(line.split(':')[-1].strip())\n",
    "            if re.match(parameters[1], line):\n",
    "                os_name_list.append(line.split(':')[-1].strip())\n",
    "            if re.match(parameters[2], line):\n",
    "                os_code_list.append(line.split(':')[-1].strip())\n",
    "            if re.match(parameters[3], line):\n",
    "                os_type_list.append(line.split(':')[-1].strip())\n",
    "\n",
    "    main_data = []\n",
    "    main_data.append(parameters)\n",
    "    \n",
    "    for i in range(len(files)):\n",
    "        main_data.append([os_prod_list[i], os_name_list[i],\n",
    "                          os_code_list[i], os_type_list[i]\n",
    "                         ])\n",
    "    \n",
    "    return main_data\n",
    "        "
   ]
  },
  {
   "cell_type": "markdown",
   "metadata": {},
   "source": [
    "#### 2."
   ]
  },
  {
   "cell_type": "markdown",
   "metadata": {},
   "source": [
    "Создать функцию write_to_csv(), в которую передавать ссылку на CSV-файл. В этой функции реализовать получение данных через вызов функции get_data(), а также сохранение подготовленных данных в соответствующий CSV-файл;"
   ]
  },
  {
   "cell_type": "code",
   "execution_count": 6,
   "metadata": {},
   "outputs": [],
   "source": [
    "def write_to_csv(file_handler):\n",
    "    data = get_data()\n",
    "    writer = csv.writer(file_handler)\n",
    "    writer.writerows(data)\n"
   ]
  },
  {
   "cell_type": "markdown",
   "metadata": {},
   "source": [
    "#### 3."
   ]
  },
  {
   "cell_type": "markdown",
   "metadata": {},
   "source": [
    "Проверить работу программы через вызов функции write_to_csv()"
   ]
  },
  {
   "cell_type": "code",
   "execution_count": 7,
   "metadata": {},
   "outputs": [],
   "source": [
    "with open(os.sep.join([DATA_PATH, 'write.csv']), 'w') as file_handler:\n",
    "    write_to_csv(file_handler)"
   ]
  },
  {
   "cell_type": "markdown",
   "metadata": {},
   "source": [
    "Откроем и выведем содержимое полученного файла"
   ]
  },
  {
   "cell_type": "code",
   "execution_count": 8,
   "metadata": {
    "scrolled": true
   },
   "outputs": [
    {
     "name": "stdout",
     "output_type": "stream",
     "text": [
      "Изготовитель системы,Название ОС,Код продукта,Тип системы\n",
      "\n",
      "LENOVO,Microsoft Windows 7 Профессиональная,00971-OEM-1982661-00231,x64-based PC\n",
      "\n",
      "ACER,Microsoft Windows 10 Professional,00971-OEM-1982661-00231,x64-based PC\n",
      "\n",
      "DELL,Microsoft Windows 8.1 Professional,00971-OEM-1982661-00231,x86-based PC\n",
      "\n",
      "\n"
     ]
    }
   ],
   "source": [
    "with open(os.sep.join([DATA_PATH, 'write.csv'])) as file_handler:\n",
    "    print(file_handler.read())"
   ]
  },
  {
   "cell_type": "markdown",
   "metadata": {},
   "source": [
    "### Задание на закрепление знаний по модулю json."
   ]
  },
  {
   "cell_type": "code",
   "execution_count": 9,
   "metadata": {},
   "outputs": [],
   "source": [
    "import json"
   ]
  },
  {
   "cell_type": "markdown",
   "metadata": {},
   "source": [
    "Есть файл orders в формате JSON с информацией о заказах. Написать скрипт, автоматизирующий его заполнение данными. Для этого:"
   ]
  },
  {
   "cell_type": "markdown",
   "metadata": {},
   "source": [
    "#### 1."
   ]
  },
  {
   "cell_type": "markdown",
   "metadata": {},
   "source": [
    "Создать функцию write_order_to_json(), в которую передается 5 параметров — товар (item), количество (quantity), цена (price), покупатель (buyer), дата (date). Функция должна предусматривать запись данных в виде словаря в файл orders.json. При записи данных указать величину отступа в 4 пробельных символа;"
   ]
  },
  {
   "cell_type": "code",
   "execution_count": 10,
   "metadata": {},
   "outputs": [],
   "source": [
    "def write_order_to_json(item, quantity, price, buyer, date):\n",
    "    data = {'item': item,\n",
    "            'quantity': quantity,\n",
    "            'price': price,\n",
    "            'buyer': buyer,\n",
    "            'date': date\n",
    "           }\n",
    "    \n",
    "    json_file_name = 'order.json'\n",
    "    \n",
    "    with open(os.sep.join([DATA_PATH, json_file_name]), 'w') as file_handler:\n",
    "        json.dump(data, file_handler, indent=4)\n"
   ]
  },
  {
   "cell_type": "markdown",
   "metadata": {},
   "source": [
    "#### 2."
   ]
  },
  {
   "cell_type": "markdown",
   "metadata": {},
   "source": [
    "Проверить работу программы через вызов функции write_order_to_json() с передачей в нее значений каждого параметра."
   ]
  },
  {
   "cell_type": "code",
   "execution_count": 11,
   "metadata": {},
   "outputs": [],
   "source": [
    "write_order_to_json('Bycicle', 1, 10000, 'John Black', '2019-07-02')"
   ]
  },
  {
   "cell_type": "markdown",
   "metadata": {},
   "source": [
    "Откроем и выведем содержимое полученного файла"
   ]
  },
  {
   "cell_type": "code",
   "execution_count": 12,
   "metadata": {},
   "outputs": [
    {
     "name": "stdout",
     "output_type": "stream",
     "text": [
      "{\n",
      "    \"item\": \"Bycicle\",\n",
      "    \"quantity\": 1,\n",
      "    \"price\": 10000,\n",
      "    \"buyer\": \"John Black\",\n",
      "    \"date\": \"2019-07-02\"\n",
      "}\n"
     ]
    }
   ],
   "source": [
    "with open(os.sep.join([DATA_PATH, 'order.json'])) as file_handler:\n",
    "    print(file_handler.read())"
   ]
  },
  {
   "cell_type": "markdown",
   "metadata": {},
   "source": [
    "### Задание на закрепление знаний по модулю yaml."
   ]
  },
  {
   "cell_type": "code",
   "execution_count": 13,
   "metadata": {},
   "outputs": [],
   "source": [
    "import yaml"
   ]
  },
  {
   "cell_type": "markdown",
   "metadata": {},
   "source": [
    "Написать скрипт, автоматизирующий сохранение данных в файле YAML-формата. Для этого:"
   ]
  },
  {
   "cell_type": "markdown",
   "metadata": {},
   "source": [
    "#### 1."
   ]
  },
  {
   "cell_type": "markdown",
   "metadata": {},
   "source": [
    "Подготовить данные для записи в виде словаря, в котором первому ключу соответствует список, второму — целое число, третьему — вложенный словарь, где значение каждого ключа — это целое число с юникод-символом, отсутствующим в кодировке ASCII (например, €);"
   ]
  },
  {
   "cell_type": "code",
   "execution_count": 14,
   "metadata": {},
   "outputs": [],
   "source": [
    "data = {\n",
    "    'key1': ['first element', 'second element', 'third element'],\n",
    "    'key2': 42,\n",
    "    'key3':{'subkey1': '12 €',\n",
    "            'subkey2': '30 €',\n",
    "            'subkey3': '7 €'\n",
    "           }\n",
    "}"
   ]
  },
  {
   "cell_type": "markdown",
   "metadata": {},
   "source": [
    "#### 2."
   ]
  },
  {
   "cell_type": "markdown",
   "metadata": {},
   "source": [
    "Реализовать сохранение данных в файл формата YAML — например, в файл file.yaml. При этом обеспечить стилизацию файла с помощью параметра default_flow_style, а также установить возможность работы с юникодом: allow_unicode = True;"
   ]
  },
  {
   "cell_type": "code",
   "execution_count": 15,
   "metadata": {},
   "outputs": [],
   "source": [
    "yaml_file_name = 'file.yaml'\n",
    "\n",
    "with open(os.sep.join([DATA_PATH, yaml_file_name]), 'w') as file_handler:\n",
    "    yaml.dump(data, file_handler, Dumper=yaml.Dumper, default_flow_style=True, allow_unicode=True)"
   ]
  },
  {
   "cell_type": "markdown",
   "metadata": {},
   "source": [
    "#### 3."
   ]
  },
  {
   "cell_type": "markdown",
   "metadata": {},
   "source": [
    "Реализовать считывание данных из созданного файла и проверить, совпадают ли они с исходными."
   ]
  },
  {
   "cell_type": "code",
   "execution_count": 16,
   "metadata": {},
   "outputs": [],
   "source": [
    "from pprint import pprint"
   ]
  },
  {
   "cell_type": "code",
   "execution_count": 17,
   "metadata": {},
   "outputs": [
    {
     "name": "stdout",
     "output_type": "stream",
     "text": [
      "{'key1': ['first element', 'second element', 'third element'],\n",
      " 'key2': 42,\n",
      " 'key3': {'subkey1': '12 €', 'subkey2': '30 €', 'subkey3': '7 €'}}\n"
     ]
    }
   ],
   "source": [
    "with open(os.sep.join([DATA_PATH, yaml_file_name])) as file_handler:\n",
    "    pprint(yaml.load(file_handler, Loader=yaml.Loader))"
   ]
  },
  {
   "cell_type": "markdown",
   "metadata": {},
   "source": [
    "## Необходимые и достаточные условия"
   ]
  },
  {
   "cell_type": "markdown",
   "metadata": {},
   "source": [
    "### Реализовать скрипт для чтения/записи данных в формате csv;"
   ]
  },
  {
   "cell_type": "markdown",
   "metadata": {},
   "source": [
    "Сознательно пропускаю, т.к. чтение и запись в формате csv подробно разобрана в уроке, и для выполнения задания достаточно просто скопировать код. Так же выше сделаны более интересные задания на модуль csv."
   ]
  },
  {
   "cell_type": "markdown",
   "metadata": {},
   "source": [
    "### Реализовать скрипт для чтения/записи данных в формате json;"
   ]
  },
  {
   "cell_type": "markdown",
   "metadata": {},
   "source": [
    "Пропускаю по той же причине."
   ]
  },
  {
   "cell_type": "markdown",
   "metadata": {},
   "source": [
    "### Реализовать скрипт для чтения/записи данных в формате yaml;"
   ]
  },
  {
   "cell_type": "markdown",
   "metadata": {},
   "source": [
    "Пропускаю по той же причине."
   ]
  },
  {
   "cell_type": "markdown",
   "metadata": {},
   "source": [
    "### Реализовать скрипт для преобразования данных в формате csv в формат json;"
   ]
  },
  {
   "cell_type": "code",
   "execution_count": 18,
   "metadata": {},
   "outputs": [],
   "source": [
    "csv_data = '''header_1,header_2,header_3\n",
    "data_11,data_12,data_13\n",
    "data_21,data_22,data_23\n",
    "data_31,data_32,data_33\n",
    "'''\n",
    "\n",
    "csv_file_name = 'csv_data.csv'\n",
    "json_file_name = 'json_data.json'\n",
    "\n",
    "with open(os.sep.join([DATA_PATH, csv_file_name]), 'w') as file_handler:\n",
    "    file_handler.write(csv_data)"
   ]
  },
  {
   "cell_type": "code",
   "execution_count": 19,
   "metadata": {},
   "outputs": [],
   "source": [
    "def csv_to_json(csv_file_name, json_file_name):\n",
    "    data_to_json = []\n",
    "    with open(os.sep.join([DATA_PATH, csv_file_name])) as csv_file_handler:\n",
    "        reader = csv.DictReader(csv_file_handler)\n",
    "        for row in reader:\n",
    "            data_to_json.append(row)\n",
    "        \n",
    "    with open(os.sep.join([DATA_PATH, json_file_name]), 'w') as json_file_handler:\n",
    "        json.dump(data_to_json, json_file_handler, indent=4)"
   ]
  },
  {
   "cell_type": "code",
   "execution_count": 20,
   "metadata": {},
   "outputs": [],
   "source": [
    "csv_to_json(csv_file_name, json_file_name)"
   ]
  },
  {
   "cell_type": "markdown",
   "metadata": {},
   "source": [
    "Откроем и выведем содержимое полученного файла"
   ]
  },
  {
   "cell_type": "code",
   "execution_count": 21,
   "metadata": {},
   "outputs": [
    {
     "name": "stdout",
     "output_type": "stream",
     "text": [
      "[\n",
      "    {\n",
      "        \"header_1\": \"data_11\",\n",
      "        \"header_2\": \"data_12\",\n",
      "        \"header_3\": \"data_13\"\n",
      "    },\n",
      "    {\n",
      "        \"header_1\": \"data_21\",\n",
      "        \"header_2\": \"data_22\",\n",
      "        \"header_3\": \"data_23\"\n",
      "    },\n",
      "    {\n",
      "        \"header_1\": \"data_31\",\n",
      "        \"header_2\": \"data_32\",\n",
      "        \"header_3\": \"data_33\"\n",
      "    }\n",
      "]\n"
     ]
    }
   ],
   "source": [
    "with open(os.sep.join([DATA_PATH, json_file_name])) as file_handler:\n",
    "    print(file_handler.read())"
   ]
  },
  {
   "cell_type": "markdown",
   "metadata": {},
   "source": [
    "### Реализовать скрипт для преобразования данных в формате csv в формат yaml;"
   ]
  },
  {
   "cell_type": "code",
   "execution_count": 22,
   "metadata": {},
   "outputs": [],
   "source": [
    "csv_data = '''header_1,header_2,header_3\n",
    "data_11,data_12,data_13\n",
    "data_21,data_22,data_23\n",
    "data_31,data_32,data_33\n",
    "'''\n",
    "\n",
    "csv_file_name = 'csv_data.csv'\n",
    "yaml_file_name = 'yaml_data.yaml'\n",
    "\n",
    "with open(os.sep.join([DATA_PATH, csv_file_name]), 'w') as file_handler:\n",
    "    file_handler.write(csv_data)"
   ]
  },
  {
   "cell_type": "code",
   "execution_count": 23,
   "metadata": {},
   "outputs": [],
   "source": [
    "def csv_to_yaml(csv_file_name, yaml_file_name):\n",
    "    data_to_yaml = []\n",
    "    with open(os.sep.join([DATA_PATH, csv_file_name])) as csv_file_handler:\n",
    "        reader = csv.reader(csv_file_handler)\n",
    "        for row in reader:\n",
    "            data_to_yaml.append(row)\n",
    "        \n",
    "    with open(os.sep.join([DATA_PATH, yaml_file_name]), 'w') as yaml_file_handler:\n",
    "        yaml.dump(data_to_yaml, yaml_file_handler, Dumper=yaml.Dumper)"
   ]
  },
  {
   "cell_type": "code",
   "execution_count": 24,
   "metadata": {},
   "outputs": [],
   "source": [
    "csv_to_yaml(csv_file_name, yaml_file_name)"
   ]
  },
  {
   "cell_type": "markdown",
   "metadata": {},
   "source": [
    "Откроем и выведем содержимое полученного файла"
   ]
  },
  {
   "cell_type": "code",
   "execution_count": 25,
   "metadata": {},
   "outputs": [
    {
     "name": "stdout",
     "output_type": "stream",
     "text": [
      "- - header_1\n",
      "  - header_2\n",
      "  - header_3\n",
      "- - data_11\n",
      "  - data_12\n",
      "  - data_13\n",
      "- - data_21\n",
      "  - data_22\n",
      "  - data_23\n",
      "- - data_31\n",
      "  - data_32\n",
      "  - data_33\n",
      "\n"
     ]
    }
   ],
   "source": [
    "with open(os.sep.join([DATA_PATH, yaml_file_name])) as file_handler:\n",
    "    print(file_handler.read())"
   ]
  },
  {
   "cell_type": "markdown",
   "metadata": {},
   "source": [
    "### Реализовать скрипт для преобразования данных в формате json в формат yaml."
   ]
  },
  {
   "cell_type": "code",
   "execution_count": 26,
   "metadata": {},
   "outputs": [],
   "source": [
    "json_data = '''[\n",
    "    {\n",
    "        \"header_1\": \"data_11\",\n",
    "        \"header_2\": \"data_12\",\n",
    "        \"header_3\": \"data_13\"\n",
    "    },\n",
    "    {\n",
    "        \"header_1\": \"data_21\",\n",
    "        \"header_2\": \"data_22\",\n",
    "        \"header_3\": \"data_23\"\n",
    "    },\n",
    "    {\n",
    "        \"header_1\": \"data_31\",\n",
    "        \"header_2\": \"data_32\",\n",
    "        \"header_3\": \"data_33\"\n",
    "    }\n",
    "]\n",
    "'''\n",
    "\n",
    "json_file_name = 'json_data.json'\n",
    "yaml_file_name = 'yaml_data.yaml'\n",
    "\n",
    "with open(os.sep.join([DATA_PATH, json_file_name]), 'w') as file_handler:\n",
    "    file_handler.write(json_data)"
   ]
  },
  {
   "cell_type": "code",
   "execution_count": 27,
   "metadata": {},
   "outputs": [],
   "source": [
    "def json_to_yaml(json_file_name, yaml_file_name):\n",
    "    with open(os.sep.join([DATA_PATH, json_file_name])) as json_file_handler:\n",
    "        data_to_yaml = json.load(json_file_handler)\n",
    "        \n",
    "    with open(os.sep.join([DATA_PATH, yaml_file_name]), 'w') as yaml_file_handler:\n",
    "        yaml.dump(data_to_yaml, yaml_file_handler, Dumper=yaml.Dumper)"
   ]
  },
  {
   "cell_type": "code",
   "execution_count": 28,
   "metadata": {},
   "outputs": [],
   "source": [
    "json_to_yaml(json_file_name, yaml_file_name)"
   ]
  },
  {
   "cell_type": "markdown",
   "metadata": {},
   "source": [
    "Откроем и выведем содержимое полученного файла"
   ]
  },
  {
   "cell_type": "code",
   "execution_count": 29,
   "metadata": {},
   "outputs": [
    {
     "name": "stdout",
     "output_type": "stream",
     "text": [
      "- header_1: data_11\n",
      "  header_2: data_12\n",
      "  header_3: data_13\n",
      "- header_1: data_21\n",
      "  header_2: data_22\n",
      "  header_3: data_23\n",
      "- header_1: data_31\n",
      "  header_2: data_32\n",
      "  header_3: data_33\n",
      "\n"
     ]
    }
   ],
   "source": [
    "with open(os.sep.join([DATA_PATH, yaml_file_name])) as file_handler:\n",
    "    print(file_handler.read())"
   ]
  }
 ],
 "metadata": {
  "kernelspec": {
   "display_name": "Python 3",
   "language": "python",
   "name": "python3"
  },
  "language_info": {
   "codemirror_mode": {
    "name": "ipython",
    "version": 3
   },
   "file_extension": ".py",
   "mimetype": "text/x-python",
   "name": "python",
   "nbconvert_exporter": "python",
   "pygments_lexer": "ipython3",
   "version": "3.7.2"
  }
 },
 "nbformat": 4,
 "nbformat_minor": 2
}
